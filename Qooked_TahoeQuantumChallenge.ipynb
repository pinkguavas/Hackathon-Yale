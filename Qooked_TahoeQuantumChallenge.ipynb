{
 "cells": [
  {
   "cell_type": "markdown",
   "id": "f20efb22-3db3-49c1-ac1a-d9a86dc9af5b",
   "metadata": {},
   "source": [
    "# Qooked Tahoe Quatum Challenge 2025"
   ]
  },
  {
   "cell_type": "markdown",
   "id": "e5322353-1b49-499e-9f5e-debce4410433",
   "metadata": {},
   "source": [
    "## Resource Allocation Problem\n",
    "Resource Allocation Problem:\n",
    "\n",
    "### Rewriting MIS into QUBO\n",
    "The Quadratic Unconstrained Binary Optimization(QUBO) framework can be used to express our MIS problem as we want to minimize $x^TQx$ where $x$ is our vector of binary variables, $Q$ is our matrix encoding high level of wildfire threat. We first encapsulate our geospatial map of our desired location using weighted fire-threat analysis in to our matrix:"
   ]
  },
  {
   "cell_type": "code",
   "execution_count": null,
   "id": "c7d9bc69-4f7b-4594-9e0e-ab3d8574a24a",
   "metadata": {},
   "outputs": [],
   "source": []
  },
  {
   "cell_type": "markdown",
   "id": "7d53b8e8-a0a6-4668-b068-5fc293761177",
   "metadata": {},
   "source": [
    "QUBO Formalism using PyQUBO:"
   ]
  },
  {
   "cell_type": "code",
   "execution_count": 8,
   "id": "8f792235-3d6e-4a68-8a19-3089c3beb521",
   "metadata": {},
   "outputs": [],
   "source": [
    "import numpy as np\n",
    "from pyqubo import Binary\n",
    "from neal import SimulatedAnnealingSampler\n",
    "\n",
    "def matrix_to_qubo(matrix, alpha=5, beta=4, allow_adjacent_penalty=True):\n",
    "    n = matrix.shape[0]\n",
    "    variables = {}\n",
    "\n",
    "    for i in range(n):\n",
    "        for j in range(n):\n",
    "            variables[(i, j)] = Binary(f\"x{i}{j}\")\n",
    "\n",
    "    H = -sum(matrix[i][j] * variables[(i, j)] for i in range(n) for j in range(n))\n",
    "\n",
    "    total_selected = sum(variables[(i, j)] for i in range(n) for j in range(n))\n",
    "    H += alpha * total_selected\n",
    "\n",
    "    if allow_adjacent_penalty:\n",
    "        for i in range(n):\n",
    "            for j in range(n):\n",
    "                if i < n - 1:\n",
    "                    H += beta * variables[(i, j)] * variables[(i + 1, j)]\n",
    "                if j < n - 1:\n",
    "                    H += beta * variables[(i, j)] * variables[(i, j + 1)]\n",
    "\n",
    "    model = H.compile()\n",
    "    qubo, offset = model.to_qubo()\n",
    "    return qubo, offset, model"
   ]
  },
  {
   "cell_type": "markdown",
   "id": "d6cd6622-d517-4204-b427-23a5367b4153",
   "metadata": {},
   "source": [
    "Solving QUBO with Quantum Annealing:"
   ]
  },
  {
   "cell_type": "code",
   "execution_count": 9,
   "id": "0f1bc6df-5f0b-4f1e-b1ff-c9466146e7fb",
   "metadata": {},
   "outputs": [
    {
     "name": "stdout",
     "output_type": "stream",
     "text": [
      "Wildfire Intensity Matrix:\n",
      " [[7 1 8 8 7 2 7 3 5 3]\n",
      " [6 8 0 8 3 4 0 8 1 2]\n",
      " [1 0 5 6 3 2 3 2 5 4]\n",
      " [1 5 4 7 8 5 1 7 6 1]\n",
      " [5 6 6 1 8 0 1 3 8 8]\n",
      " [6 0 6 7 7 4 6 6 7 5]\n",
      " [6 5 1 5 7 0 7 2 5 0]\n",
      " [2 7 8 8 3 2 6 6 2 0]\n",
      " [5 1 1 5 6 7 8 8 8 3]\n",
      " [5 3 1 5 6 8 6 4 3 5]]\n",
      "Optimal Response Deployment:\n",
      " [[0. 0. 1. 0. 0. 0. 0. 0. 0. 0.]\n",
      " [0. 1. 0. 1. 0. 0. 0. 1. 0. 0.]\n",
      " [0. 0. 0. 0. 0. 0. 0. 0. 0. 0.]\n",
      " [0. 0. 0. 0. 0. 0. 0. 0. 0. 0.]\n",
      " [0. 0. 0. 0. 1. 0. 0. 0. 1. 0.]\n",
      " [0. 0. 0. 0. 0. 0. 0. 0. 0. 0.]\n",
      " [0. 0. 0. 0. 0. 0. 1. 0. 0. 0.]\n",
      " [0. 0. 1. 0. 0. 0. 0. 0. 0. 0.]\n",
      " [0. 0. 0. 0. 0. 0. 1. 0. 1. 0.]\n",
      " [0. 0. 0. 0. 0. 1. 0. 0. 0. 0.]]\n",
      "Energy (QUBO Objective): -10.0\n",
      "Units used: 11\n"
     ]
    }
   ],
   "source": [
    "def solve_qubo_with_neal(matrix, alpha=5, beta=4, num_reads=100):\n",
    "    qubo, offset, model = matrix_to_qubo(matrix, alpha=alpha, beta=beta)\n",
    "    sampler = SimulatedAnnealingSampler()\n",
    "    sampleset = sampler.sample_qubo(qubo, num_reads=num_reads)\n",
    "    decoded_samples = model.decode_sampleset(sampleset)\n",
    "    best_sample = decoded_samples[0]\n",
    "\n",
    "    n = matrix.shape[0]\n",
    "    solution_matrix = np.zeros((n, n))\n",
    "    for i in range(n):\n",
    "        for j in range(n):\n",
    "            var_name = f\"x{i}{j}\"\n",
    "            solution_matrix[i, j] = best_sample.sample.get(var_name, 0)\n",
    "\n",
    "    return solution_matrix, best_sample.energy + offset\n",
    "\n",
    "\n",
    "matrix =  np.random.randint(0, 9, (10, 10))\n",
    "\n",
    "solution, energy = solve_qubo_with_neal(matrix, alpha=7, beta=4)\n",
    "print(\"Wildfire Intensity Matrix:\\n\", matrix)\n",
    "print(\"Optimal Response Deployment:\\n\", solution)\n",
    "print(\"Energy (QUBO Objective):\", energy)\n",
    "print(\"Units used:\", int(solution.sum()))"
   ]
  },
  {
   "cell_type": "code",
   "execution_count": null,
   "id": "ee993c65-3e13-4d35-af5e-2f5269f657a1",
   "metadata": {},
   "outputs": [],
   "source": []
  }
 ],
 "metadata": {
  "kernelspec": {
   "display_name": "Python 3 [tahoe]",
   "language": "python",
   "name": "python3_tahoe_jbtgln"
  },
  "language_info": {
   "codemirror_mode": {
    "name": "ipython",
    "version": 3
   },
   "file_extension": ".py",
   "mimetype": "text/x-python",
   "name": "python",
   "nbconvert_exporter": "python",
   "pygments_lexer": "ipython3",
   "version": "3.11.9"
  }
 },
 "nbformat": 4,
 "nbformat_minor": 5
}
